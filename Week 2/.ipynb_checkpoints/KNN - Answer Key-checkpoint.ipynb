{
 "cells": [
  {
   "cell_type": "markdown",
   "metadata": {},
   "source": [
    "__Name/Section:__"
   ]
  },
  {
   "cell_type": "markdown",
   "metadata": {},
   "source": [
    "A: Renz Iver Baliber - G01"
   ]
  },
  {
   "cell_type": "markdown",
   "metadata": {},
   "source": [
    "# k-Nearest Neighbor (kNN) exercise\n",
    "\n",
    "The kNN classifier consists of two stages:\n",
    "\n",
    "- During training, the classifier takes the training data and simply remembers it\n",
    "- During testing, kNN classifies every test image by comparing to all training images and transfering the labels of the k most similar training examples\n",
    "- The value of k is cross-validated\n",
    "\n",
    "In this exercise you will implement these steps and understand the basic classification pipeline, and cross-validation."
   ]
  },
  {
   "cell_type": "markdown",
   "metadata": {},
   "source": [
    "## Instructions\n",
    "* Read each cell and implement the TODOs sequentially. The markdown/text cells also contain instructions which you need to follow to get the whole notebook working.\n",
    "* Do not change the variable names unless the instructor allows you to.\n",
    "* Answer all the markdown/text cells with \"A: \" on them. The answer must strictly consume one line only.\n",
    "* You are expected to search how some functions work on the Internet or via the docs. \n",
    "* You may add new cells for \"scrap work\".\n",
    "* The notebooks will undergo a \"Restart and Run All\" command, so make sure that your code is working properly.\n",
    "* You may not reproduce this notebook or share them to anyone."
   ]
  },
  {
   "cell_type": "code",
   "execution_count": 1,
   "metadata": {},
   "outputs": [],
   "source": [
    "# Run some setup code for this notebook.\n",
    "import random\n",
    "import numpy as np\n",
    "import pickle\n",
    "import os\n",
    "import matplotlib.pyplot as plt\n",
    "# Makes matplotlib figures appear inline in the notebook\n",
    "# rather than in a new window.\n",
    "%matplotlib inline\n",
    "\n",
    "plt.rcParams['figure.figsize'] = (10.0, 8.0) # set default size of plots\n",
    "plt.rcParams['image.interpolation'] = 'nearest'\n",
    "plt.rcParams['image.cmap'] = 'gray'\n",
    "\n",
    "# autoreload external python modules;\n",
    "# see http://stackoverflow.com/questions/1907993/autoreload-of-modules-in-ipython\n",
    "%load_ext autoreload\n",
    "%autoreload 2"
   ]
  },
  {
   "cell_type": "markdown",
   "metadata": {},
   "source": [
    "this is jay"
   ]
  },
  {
   "cell_type": "markdown",
   "metadata": {},
   "source": [
    "# Playing with a small dataset \n",
    "\n"
   ]
  },
  {
   "cell_type": "markdown",
   "metadata": {},
   "source": [
    "## Create a small dataset\n",
    "Let's create a simple dataset and see how a kNN classifier will classify it. In this exercise, let's have two class labels 0 and 1, or y = {0,1}\n",
    "\n",
    "Let's first create the X (features) of y=0. We can do this by randomly choosing datapoints with numpy's `np.random.randn function`:\n",
    "```python\n",
    "np.random.randn(rows,cols)*variance + mean\n",
    "```\n",
    "Find out more with `np.random.randn?`"
   ]
  },
  {
   "cell_type": "code",
   "execution_count": 2,
   "metadata": {
    "scrolled": false
   },
   "outputs": [
    {
     "name": "stdout",
     "output_type": "stream",
     "text": [
      "Class 0 \n",
      "[[5.69301027 1.18659728]\n",
      " [0.46517005 2.11188001]\n",
      " [2.67056632 1.99043603]\n",
      " [1.08634534 5.78925899]\n",
      " [2.63211645 2.87663357]\n",
      " [3.01967559 4.59870402]\n",
      " [1.84410396 2.37146232]\n",
      " [3.13140121 3.8654467 ]\n",
      " [2.12512379 0.8686393 ]\n",
      " [4.71629808 3.10801108]]\n",
      "Class 1 \n",
      "[[-0.96930277 -0.01506919]\n",
      " [ 2.22045653  0.43660156]\n",
      " [ 0.21181919  0.70317449]\n",
      " [ 1.05256668  3.18000238]\n",
      " [ 2.91323113  2.78216208]\n",
      " [ 0.4339702   2.98951093]\n",
      " [ 1.92694898 -0.78984809]\n",
      " [-0.44628122  2.89471021]\n",
      " [ 2.41944142  1.28352816]\n",
      " [-1.04618286  3.11645188]]\n"
     ]
    }
   ],
   "source": [
    "# TODO : Create 10 entries (rows) with 2 features (columns: x and y coordinates) for y=0\n",
    "# Set the mean to 3, and variance to 1.5\n",
    "### START CODE HERE ###\n",
    "X_train_zeros = np.random.randn(10,2)*1.5 + 3\n",
    "### END CODE HERE ###\n",
    "\n",
    "# TODO : Create 10 entries (rows) with 2 features (columns) for y=1\n",
    "# Set the mean to 1, and variance to 1.5\n",
    "### START CODE HERE ###\n",
    "X_train_ones = np.random.randn(10,2)*1.5 + 1\n",
    "### END CODE HERE ###\n",
    "\n",
    "# Check the generated numbers\n",
    "print(\"Class 0 \\n\" + str(X_train_zeros))\n",
    "print(\"Class 1 \\n\" + str(X_train_ones))"
   ]
  },
  {
   "cell_type": "markdown",
   "metadata": {},
   "source": [
    "### Visualize\n",
    "Plot the generated data in a chart"
   ]
  },
  {
   "cell_type": "code",
   "execution_count": 3,
   "metadata": {},
   "outputs": [
    {
     "data": {
      "text/plain": [
       "[<matplotlib.lines.Line2D at 0x11e4fcdd0>]"
      ]
     },
     "execution_count": 3,
     "metadata": {},
     "output_type": "execute_result"
    },
    {
     "data": {
      "image/png": "[encoded data removed]",
      "text/plain": [
       "<Figure size 720x576 with 1 Axes>"
      ]
     },
     "metadata": {
      "needs_background": "light"
     },
     "output_type": "display_data"
    }
   ],
   "source": [
    "# Format: plt.plot(x, y, character/symbol)\n",
    "#plt.plot?\n",
    "\n",
    "# X_train_zeros[:,col] gets all the rows and column col\n",
    "# The 'bo' parameter marks these points as blue circles\n",
    "plt.plot(X_train_zeros[:,0], X_train_zeros[:,1], 'bo')\n",
    "# The 'ro' parameter marks these points as red circles\n",
    "plt.plot(X_train_ones[:,0], X_train_ones[:,1], 'ro')"
   ]
  },
  {
   "cell_type": "markdown",
   "metadata": {},
   "source": [
    "So far, our data D has been split to 2 classes. \n",
    "\n",
    "Let's collate them into one X_train, and create y_train for the labels"
   ]
  },
  {
   "cell_type": "code",
   "execution_count": 5,
   "metadata": {},
   "outputs": [
    {
     "name": "stdout",
     "output_type": "stream",
     "text": [
      "Our data set:\n",
      "Features (X) \t\t Label (y)\n",
      "[5.69301027 1.18659728] 0.0\n",
      "[0.46517005 2.11188001] 0.0\n",
      "[2.67056632 1.99043603] 0.0\n",
      "[1.08634534 5.78925899] 0.0\n",
      "[2.63211645 2.87663357] 0.0\n",
      "[3.01967559 4.59870402] 0.0\n",
      "[1.84410396 2.37146232] 0.0\n",
      "[3.13140121 3.8654467 ] 0.0\n",
      "[2.12512379 0.8686393 ] 0.0\n",
      "[4.71629808 3.10801108] 0.0\n",
      "[-0.96930277 -0.01506919] 1.0\n",
      "[2.22045653 0.43660156] 1.0\n",
      "[0.21181919 0.70317449] 1.0\n",
      "[1.05256668 3.18000238] 1.0\n",
      "[2.91323113 2.78216208] 1.0\n",
      "[0.4339702  2.98951093] 1.0\n",
      "[ 1.92694898 -0.78984809] 1.0\n",
      "[-0.44628122  2.89471021] 1.0\n",
      "[2.41944142 1.28352816] 1.0\n",
      "[-1.04618286  3.11645188] 1.0\n"
     ]
    }
   ],
   "source": [
    "# TODO : Combine X_train_zeros with X_train_ones to a single matrix\n",
    "# Tip : Use np.concatenate to combine the two matrices\n",
    "### START CODE HERE ###\n",
    "X_train = np.concatenate((X_train_zeros, X_train_ones),0)\n",
    "### END CODE HERE ###\n",
    "\n",
    "# Labels\n",
    "# TODO : Create an array of 10 zeros for the first class y=0\n",
    "# Tip : Instead of manually creating an array, use np.zeros\n",
    "### START CODE HERE ###\n",
    "y_train_zeros = np.zeros(10)\n",
    "### END CODE HERE ###\n",
    "\n",
    "# TODO : Create an array of 10 ones for the first class y=1\n",
    "# Tip : Instead of manually creating an array, use np.ones\n",
    "### START CODE HERE ###\n",
    "y_train_ones = np.ones(10)\n",
    "### END CODE HERE ###\n",
    "\n",
    "# TODO : Combine y_train_zeros with y_train_ones to a single array\n",
    "# Tip : Use np.concatenate to combine the two arrays\n",
    "### START CODE HERE ###\n",
    "y_train = np.concatenate((y_train_zeros, y_train_ones), axis=0)\n",
    "### END CODE HERE ###\n",
    "\n",
    "print(\"Our data set:\")\n",
    "print(\"Features (X) \\t\\t Label (y)\")\n",
    "for i in range(len(y_train)):\n",
    "    print(str(X_train[i]) + \" \" + str(y_train[i]))"
   ]
  },
  {
   "cell_type": "code",
   "execution_count": 6,
   "metadata": {},
   "outputs": [],
   "source": [
    "X_train_0 = []\n",
    "for i in range(len(y_train)):\n",
    "    if y_train[i]==0.0:\n",
    "        X_train_0.append(X_train[i])\n",
    "X_train_1 = []\n",
    "for i in range(len(y_train)):\n",
    "    if y_train[i]==1.0:\n",
    "        X_train_1.append(X_train[i])"
   ]
  },
  {
   "cell_type": "code",
   "execution_count": 7,
   "metadata": {},
   "outputs": [],
   "source": [
    "X_train_0_ = np.array(X_train_0)\n",
    "X_train_1_ = np.array(X_train_1)"
   ]
  },
  {
   "cell_type": "code",
   "execution_count": 8,
   "metadata": {},
   "outputs": [],
   "source": [
    "plt.plot?"
   ]
  },
  {
   "cell_type": "markdown",
   "metadata": {},
   "source": [
    "__Your output should look like this:__\n",
    "```\n",
    "Our data set:\n",
    "    Features (X) \t\t Label (y)\n",
    "[ 2.10736448  4.38938532] 0.0\n",
    "[ 4.63171067  7.15449636] 0.0\n",
    "[ 2.80923301  2.80047896] 0.0\n",
    "...\n",
    "[ 4.23634568  2.21686253] 1.0\n",
    "[-0.5704331  1.0972354] 1.0\n",
    "[-1.4629462   1.00977947] 1.0\n",
    "```"
   ]
  },
  {
   "cell_type": "markdown",
   "metadata": {},
   "source": [
    "### Create a test case\n",
    "Let's add in a single test case to see how it will be classified by kNN"
   ]
  },
  {
   "cell_type": "code",
   "execution_count": 9,
   "metadata": {},
   "outputs": [
    {
     "data": {
      "text/plain": [
       "[<matplotlib.lines.Line2D at 0x11ec16e10>]"
      ]
     },
     "execution_count": 9,
     "metadata": {},
     "output_type": "execute_result"
    },
    {
     "data": {
      "image/png": "[encoded data removed]",
      "text/plain": [
       "<Figure size 720x576 with 1 Axes>"
      ]
     },
     "metadata": {
      "needs_background": "light"
     },
     "output_type": "display_data"
    }
   ],
   "source": [
    "# New test case, see what will happen when you change this\n",
    "X_test = np.array([[3,3.5]])\n",
    "# There's a reason why this is an array inside an array. Each data \n",
    "# point is represented by an array (currently a array of length 2).\n",
    "# Right now, there is only test data, but soon we many have more than \n",
    "# one.\n",
    "\n",
    "# Plot the original\n",
    "# TODO : plot the data from y=0 with blue circles\n",
    "### START CODE HERE ###\n",
    "plt.plot(X_train_0_[:,0], X_train_0_[:,1], 'bo')\n",
    "\n",
    "### END CODE HERE ###\n",
    "\n",
    "# TODO : plot the data from y=1 with red circles\n",
    "### START CODE HERE ###\n",
    "plt.plot(X_train_1_[:,0], X_train_1_[:,1], 'ro')\n",
    "\n",
    "### END CODE HERE ###\n",
    "\n",
    "# plot the test case in the figure (it should appear as a black plus sign)\n",
    "# TODO : plot the test data with a black plus\n",
    "### START CODE HERE ###\n",
    "plt.plot(X_test[:,0], X_test[:,1], 'k+')\n",
    "### END CODE HERE ###"
   ]
  },
  {
   "cell_type": "markdown",
   "metadata": {},
   "source": [
    "kNN gets the k nearest data points of the test case. Let's envision which nearby data points will be the nearest to our test case."
   ]
  },
  {
   "cell_type": "code",
   "execution_count": 10,
   "metadata": {},
   "outputs": [
    {
     "data": {
      "text/plain": [
       "<matplotlib.patches.Circle at 0x11ecc7f10>"
      ]
     },
     "execution_count": 10,
     "metadata": {},
     "output_type": "execute_result"
    },
    {
     "data": {
      "image/png": "[encoded data removed]",
      "text/plain": [
       "<Figure size 720x576 with 1 Axes>"
      ]
     },
     "metadata": {
      "needs_background": "light"
     },
     "output_type": "display_data"
    }
   ],
   "source": [
    "# Usual plots\n",
    "# TODO : Plot the y=0 data, y=1 data, and the test data\n",
    "### START CODE HERE ###\n",
    "plt.plot(X_train_0_[:,0], X_train_0_[:,1], 'bo')\n",
    "plt.plot(X_train_1_[:,0], X_train_1_[:,1], 'ro')\n",
    "plt.plot(X_test[:,0], X_test[:,1], 'k+')\n",
    "### END CODE HERE ###\n",
    "\n",
    "# TODO : Place in the radius/distance of the circle\n",
    "### START CODE HERE ###\n",
    "radius = 1\n",
    "### END CODE HERE ###\n",
    "\n",
    "circle= plt.Circle((X_test[:,0], X_test[:,1]), radius, color='k', fill=False)\n",
    "fig = plt.gcf()\n",
    "ax = fig.gca()\n",
    "ax.axis('equal')\n",
    "ax.add_artist(circle)"
   ]
  },
  {
   "cell_type": "markdown",
   "metadata": {},
   "source": [
    "## Question: "
   ]
  },
  {
   "cell_type": "markdown",
   "metadata": {},
   "source": [
    "__Adjust the radius until it has more than 1 data point. How will you label the new test data?__"
   ]
  },
  {
   "cell_type": "markdown",
   "metadata": {},
   "source": [
    "A: On a radius value of 1, the new test data is most likely to be of label \"BLUE\" since the number of label \"Blue\" is more than \"Red\"."
   ]
  },
  {
   "cell_type": "markdown",
   "metadata": {},
   "source": [
    "__How will you label it if the circle fits two data points -- one from each class?__"
   ]
  },
  {
   "cell_type": "markdown",
   "metadata": {},
   "source": [
    "A: In a case where in the circle fits two data points, and adjusting the circle to have an unequal number of points from each class, choosing the label that seems closer to the point is the label that i will choose."
   ]
  },
  {
   "cell_type": "markdown",
   "metadata": {},
   "source": [
    "## Using scikit to create a k neighbors classifier"
   ]
  },
  {
   "cell_type": "markdown",
   "metadata": {},
   "source": [
    "Now, we'll use scikit learn's KNeighbors classifier"
   ]
  },
  {
   "cell_type": "code",
   "execution_count": 11,
   "metadata": {
    "scrolled": true
   },
   "outputs": [
    {
     "data": {
      "text/plain": [
       "array([0.])"
      ]
     },
     "execution_count": 11,
     "metadata": {},
     "output_type": "execute_result"
    }
   ],
   "source": [
    "from sklearn.neighbors import KNeighborsClassifier\n",
    "\n",
    "# Initialize our classifier as knn\n",
    "model = KNeighborsClassifier()\n",
    "\n",
    "# Train the model \n",
    "model.fit(X_train, y_train)\n",
    "\n",
    "# Test the model\n",
    "model.predict(X_test)"
   ]
  },
  {
   "cell_type": "markdown",
   "metadata": {},
   "source": [
    "The output should be the label of the data point nearest the test data. If the closest data point is blue it should say 0, and 1 if red."
   ]
  },
  {
   "cell_type": "markdown",
   "metadata": {},
   "source": [
    "## k Neighbors\n",
    "We could also get the k nearest neighbors (not just the label)"
   ]
  },
  {
   "cell_type": "markdown",
   "metadata": {},
   "source": [
    "We can use `model.kneighbors` to get the actual neighbors that are similar to our test data."
   ]
  },
  {
   "cell_type": "code",
   "execution_count": 12,
   "metadata": {
    "scrolled": true
   },
   "outputs": [
    {
     "name": "stdout",
     "output_type": "stream",
     "text": [
      "The 5 nearest neighbors:\n",
      "1. [3.13140121 3.8654467 ]\t dist: 0.3883523806108853\n",
      "2. [2.91323113 2.78216208]\t dist: 0.7230630132197398\n",
      "3. [2.63211645 2.87663357]\t dist: 0.7238259569477608\n",
      "4. [3.01967559 4.59870402]\t dist: 1.098880182322731\n",
      "5. [2.67056632 1.99043603]\t dist: 1.5450922115870807\n"
     ]
    }
   ],
   "source": [
    "neighbors = 5\n",
    "# TODO : Use kneighbors to get the most similar instances\n",
    "### START CODE HERE ###\n",
    "distances, data_index = model.kneighbors(X_test)\n",
    "### END CODE HERE ###\n",
    "\n",
    "distances = np.squeeze(distances) # just some trivial processing...\n",
    "data_index = np.squeeze(data_index) # just some trivial processing...\n",
    "\n",
    "print(\"The \" + str(neighbors) + \" nearest neighbors:\")\n",
    "for i in range(neighbors):\n",
    "    print(str(i+1) + \". \" + str(X_train[data_index[i]]) + \"\\t dist: \"+ str(distances[i]))"
   ]
  },
  {
   "cell_type": "markdown",
   "metadata": {},
   "source": [
    "__Your output should look like this:__\n",
    "```\n",
    "The 5 nearest neighbors:\n",
    "1. [ 3.53308273  3.67087895]\t dist: 0.559800686629\n",
    "2. [ 2.80923301  2.80047896]\t dist: 0.725066710211\n",
    "3. [ 2.25856168  2.97214525]\t dist: 0.910143626575\n",
    "4. [ 3.99191562  2.99839246]\t dist: 1.11153349516\n",
    "5. [ 3.24464637  2.28448593]\t dist: 1.23988963153\n",
    "```"
   ]
  },
  {
   "cell_type": "markdown",
   "metadata": {},
   "source": [
    "Let's check the labels of the k nearest neighbors"
   ]
  },
  {
   "cell_type": "code",
   "execution_count": 13,
   "metadata": {},
   "outputs": [
    {
     "data": {
      "text/plain": [
       "array([0., 1., 0., 0., 0.])"
      ]
     },
     "execution_count": 13,
     "metadata": {},
     "output_type": "execute_result"
    }
   ],
   "source": [
    "y_train[data_index]\n",
    "# We can place in an array as the indices to our array"
   ]
  },
  {
   "cell_type": "markdown",
   "metadata": {},
   "source": [
    "## Hyperparameter k\n",
    "\n",
    "By now, you would have noticed that the value of *k* will affect the result the result of the classifier. Choosing a good *k* is important, and we can do sample runs to see which *k* works best for us.\n",
    "\n",
    "*Hyperparameters* like *k* affect how the model learns, and are usually \"set\" before modelling begins. They are different from regular *parameters* in a model. They are normally considered \"higher level\" because they also help estimate model *paramters*. *Parameters* can be estimated by some analytic solution based on the data, while *hyperparameters* can not. Since knn is non-parametric, we haven't encountered any *parameters* yet.\n",
    "\n",
    "In sklearn's KNeighborsClassifier, we can control the value of *k*, too."
   ]
  },
  {
   "cell_type": "code",
   "execution_count": 14,
   "metadata": {},
   "outputs": [
    {
     "data": {
      "text/plain": [
       "array([0.])"
      ]
     },
     "execution_count": 14,
     "metadata": {},
     "output_type": "execute_result"
    }
   ],
   "source": [
    "# You can change the test data to get a more conflicting labels in the neighbors\n",
    "X_test=[[2,2]] \n",
    "# TODO : Add in the parameter for KNeighborsClassifier so that \n",
    "# it will choose 5 neighbors\n",
    "### START CODE HERE ###\n",
    "model = KNeighborsClassifier(n_neighbors=5)\n",
    "### END CODE HERE ###\n",
    "\n",
    "# TODO : Train the model with the train data\n",
    "### START CODE HERE ###\n",
    "model.fit(X_train, y_train)\n",
    "### END CODE HERE ###\n",
    "\n",
    "# TODO : Test the model with the test data\n",
    "### START CODE HERE ###\n",
    "model.predict(X_test)\n",
    "### END CODE HERE ###"
   ]
  },
  {
   "cell_type": "markdown",
   "metadata": {},
   "source": [
    "## Questions:"
   ]
  },
  {
   "cell_type": "markdown",
   "metadata": {},
   "source": [
    "__How is the label predicted when k is more 1?__"
   ]
  },
  {
   "cell_type": "markdown",
   "metadata": {},
   "source": [
    "A: When k is more than 1, the model, in case of discrete labels, will choose the label that has more instances, while in the case of continous labels, the model will get the mean of the instances."
   ]
  },
  {
   "cell_type": "markdown",
   "metadata": {},
   "source": [
    "__What is the effect when you set the neighbors to 1?__"
   ]
  },
  {
   "cell_type": "markdown",
   "metadata": {},
   "source": [
    "A: The model chooses the label of the instance that is closest to the test data point"
   ]
  },
  {
   "cell_type": "markdown",
   "metadata": {},
   "source": [
    "__What is the effect when you set the neighbors to 20?__"
   ]
  },
  {
   "cell_type": "markdown",
   "metadata": {
    "collapsed": true
   },
   "source": [
    "A:There is a possibility that the number of instances could lead into a tie, but choosing a high value of K such as 20, would give more options (doesn't necessarily mean that it would be better) for the model to check the data point's neighbors for similarity."
   ]
  },
  {
   "cell_type": "markdown",
   "metadata": {},
   "source": [
    "### Test Data\n",
    "So far, we only have one test case. But we can test more than one sample data at a time, we just need to populate more samples in our X_test."
   ]
  },
  {
   "cell_type": "code",
   "execution_count": 15,
   "metadata": {},
   "outputs": [],
   "source": [
    "# You may change this\n",
    "X_test = [[0,0],[1,1],[2,2],[3,3],[4,4]]"
   ]
  },
  {
   "cell_type": "code",
   "execution_count": 16,
   "metadata": {
    "scrolled": true
   },
   "outputs": [
    {
     "data": {
      "text/plain": [
       "array([1., 1., 0., 0., 0.])"
      ]
     },
     "execution_count": 16,
     "metadata": {},
     "output_type": "execute_result"
    }
   ],
   "source": [
    "model.predict(X_test)"
   ]
  },
  {
   "cell_type": "markdown",
   "metadata": {},
   "source": [
    "The output should be an array with n elements, where n is the size of X_test. The predictions will come in the same order."
   ]
  },
  {
   "cell_type": "markdown",
   "metadata": {},
   "source": [
    "## Evaluating the performance"
   ]
  },
  {
   "cell_type": "markdown",
   "metadata": {},
   "source": [
    "In reality, our validation/test data will have proper labels/ground truths to compare our model's predictions with."
   ]
  },
  {
   "cell_type": "code",
   "execution_count": 17,
   "metadata": {},
   "outputs": [],
   "source": [
    "X_test = [[0,0],[1,1],[2,2],[3,3],[4,4]]\n",
    "y_test = [    1,    1,    1,    0,   0] "
   ]
  },
  {
   "cell_type": "code",
   "execution_count": 18,
   "metadata": {},
   "outputs": [],
   "source": [
    "# Assign the predictions to y_pred\n",
    "y_pred = model.predict(X_test)"
   ]
  },
  {
   "cell_type": "code",
   "execution_count": 19,
   "metadata": {},
   "outputs": [
    {
     "name": "stdout",
     "output_type": "stream",
     "text": [
      "              precision    recall  f1-score   support\n",
      "\n",
      "           0       0.67      1.00      0.80         2\n",
      "           1       1.00      0.67      0.80         3\n",
      "\n",
      "    accuracy                           0.80         5\n",
      "   macro avg       0.83      0.83      0.80         5\n",
      "weighted avg       0.87      0.80      0.80         5\n",
      "\n"
     ]
    }
   ],
   "source": [
    "from sklearn.metrics import classification_report\n",
    "\n",
    "# Print out the performance metrics given the actual results vs the predictions\n",
    "print(classification_report(y_test, y_pred))"
   ]
  },
  {
   "cell_type": "markdown",
   "metadata": {},
   "source": [
    "### Split data set\n",
    "We don't need to manually split our training data from test data. Most of the time, manually splitting your data will be a source of partiality because you may un/consciously be choosing \"good\" or \"easy-to-predict\" data for the model to predict.\n",
    "\n",
    "sklearn also has a module that allows us to easily split our data intro training and testing data. "
   ]
  },
  {
   "cell_type": "code",
   "execution_count": 20,
   "metadata": {},
   "outputs": [],
   "source": [
    "# TODO : Let's first combine X_train and X_test into a single X\n",
    "### START CODE HERE ###\n",
    "X = np.concatenate((X_train, X_test),0)\n",
    "### END CODE HERE ###\n",
    "\n",
    "# TODO : Let's first combine y_train and y_test into a single y\n",
    "### START CODE HERE ###\n",
    "y = np.concatenate((y_train, y_test),0)\n",
    "### END CODE HERE ###"
   ]
  },
  {
   "cell_type": "markdown",
   "metadata": {},
   "source": [
    "Use `train_test_split` to split our train from the test data. Make the test size 33% of the entire data."
   ]
  },
  {
   "cell_type": "code",
   "execution_count": 21,
   "metadata": {},
   "outputs": [
    {
     "name": "stdout",
     "output_type": "stream",
     "text": [
      "X train: \n",
      "[[ 1.92694898 -0.78984809]\n",
      " [ 2.22045653  0.43660156]\n",
      " [ 1.08634534  5.78925899]\n",
      " [ 2.63211645  2.87663357]\n",
      " [ 1.84410396  2.37146232]\n",
      " [ 5.69301027  1.18659728]\n",
      " [ 2.12512379  0.8686393 ]\n",
      " [-1.04618286  3.11645188]\n",
      " [ 3.01967559  4.59870402]\n",
      " [ 2.91323113  2.78216208]\n",
      " [ 4.71629808  3.10801108]\n",
      " [ 0.          0.        ]\n",
      " [ 3.13140121  3.8654467 ]\n",
      " [-0.96930277 -0.01506919]\n",
      " [ 1.05256668  3.18000238]\n",
      " [ 1.          1.        ]]\n",
      "y train: \n",
      "[1. 1. 0. 0. 0. 0. 0. 1. 0. 1. 0. 1. 0. 1. 1. 1.]\n",
      "X test: \n",
      "[[ 4.          4.        ]\n",
      " [ 3.          3.        ]\n",
      " [ 2.          2.        ]\n",
      " [ 2.41944142  1.28352816]\n",
      " [ 0.21181919  0.70317449]\n",
      " [ 2.67056632  1.99043603]\n",
      " [ 0.46517005  2.11188001]\n",
      " [-0.44628122  2.89471021]\n",
      " [ 0.4339702   2.98951093]]\n",
      "y test: \n",
      "[0. 0. 1. 1. 1. 0. 0. 1. 1.]\n"
     ]
    }
   ],
   "source": [
    "from sklearn.model_selection import train_test_split\n",
    "\n",
    "# We are going to reuse the variables here...\n",
    "# TODO : Call train_test_split\n",
    "### START CODE HERE ###\n",
    "X_train, X_test, y_train, y_test = train_test_split(X,y,test_size=0.33)\n",
    "### END CODE HERE ###\n",
    "\n",
    "print(\"X train: \\n\"+ str(X_train))\n",
    "print(\"y train: \\n\"+ str(y_train))\n",
    "print(\"X test: \\n\"+ str(X_test))\n",
    "print(\"y test: \\n\"+ str(y_test))"
   ]
  },
  {
   "cell_type": "markdown",
   "metadata": {},
   "source": [
    "## Question:"
   ]
  },
  {
   "cell_type": "markdown",
   "metadata": {},
   "source": [
    "__If you run the previous cell ang call `train_test_split` again, is it possible to have a different train and test set?__"
   ]
  },
  {
   "cell_type": "markdown",
   "metadata": {},
   "source": [
    "A:Yes, the train_test_split module \"shuffles\" or splits the data randomly."
   ]
  },
  {
   "cell_type": "markdown",
   "metadata": {},
   "source": [
    "And run do modelling like normal"
   ]
  },
  {
   "cell_type": "code",
   "execution_count": 22,
   "metadata": {},
   "outputs": [
    {
     "name": "stdout",
     "output_type": "stream",
     "text": [
      "              precision    recall  f1-score   support\n",
      "\n",
      "         0.0       0.60      0.75      0.67         4\n",
      "         1.0       0.75      0.60      0.67         5\n",
      "\n",
      "    accuracy                           0.67         9\n",
      "   macro avg       0.68      0.68      0.67         9\n",
      "weighted avg       0.68      0.67      0.67         9\n",
      "\n"
     ]
    }
   ],
   "source": [
    "# TODO : Create a knn classifier with a k of 3\n",
    "### START CODE HERE ###\n",
    "model = KNeighborsClassifier(n_neighbors=3)\n",
    "model.fit(X_train, y_train)\n",
    "\n",
    "y_pred = model.predict(X_test)\n",
    "### END CODE HERE ###\n",
    "\n",
    "print(classification_report(y_test, y_pred))"
   ]
  },
  {
   "cell_type": "markdown",
   "metadata": {},
   "source": [
    "Do you think we will come up with a different result if we had a different train and test set?"
   ]
  },
  {
   "cell_type": "markdown",
   "metadata": {},
   "source": [
    "## Cross validation\n",
    "Cross validation can be used to decrease the randomness in performance metrics solely because of the test data. \n",
    "\n",
    "__What does cross validation do?__\n",
    "Cross validation is a kind of splitting similar to what we did in the cells before. But it does multiple splits, so cross val will give us *k*   train and test data. It does in such a way that each data point will eventually become a validation data.\n",
    "\n",
    "> The *k* in *k*-fold cross validation is different from *k* nearest neighbors\n",
    "\n",
    "Cross validation is an alternative to split testing where we never shuffle train and test together in further experiments. It is a good option if you have few data points, and you cannot afford to lose any data as test data.\n",
    "\n",
    "__Determining hyperparameters.__ Validation is also a way for us to determine a good value for our *k* in k-nearest neighbors. Instead of blindly choosing our hyperparameter, we will do multiple experiments using cross validation to see which one will give us the best results.\n",
    "\n",
    "> You may have heard of *validation* and *test* data before. For now, we will treat them similarly. But they are two different things."
   ]
  },
  {
   "cell_type": "markdown",
   "metadata": {},
   "source": [
    "`cross_val_predict` does the data splitting, training, and cross-validation. Try getting the predictions using a *k* of 10."
   ]
  },
  {
   "cell_type": "code",
   "execution_count": 23,
   "metadata": {
    "scrolled": true
   },
   "outputs": [
    {
     "name": "stdout",
     "output_type": "stream",
     "text": [
      "              precision    recall  f1-score   support\n",
      "\n",
      "         0.0       0.75      0.75      0.75        12\n",
      "         1.0       0.77      0.77      0.77        13\n",
      "\n",
      "    accuracy                           0.76        25\n",
      "   macro avg       0.76      0.76      0.76        25\n",
      "weighted avg       0.76      0.76      0.76        25\n",
      "\n"
     ]
    }
   ],
   "source": [
    "from sklearn.model_selection import cross_val_predict\n",
    "from sklearn.model_selection import cross_val_score\n",
    "from sklearn import metrics\n",
    "\n",
    "k = 10\n",
    "# TODO : get the predictions using cross_val_predict\n",
    "### START CODE HERE ###\n",
    "model = KNeighborsClassifier(n_neighbors=k)\n",
    "predictions = cross_val_predict(model, X, y, cv=3)\n",
    "### END CODE HERE ###\n",
    "\n",
    "# TODO : print the classification report\n",
    "### START CODE HERE ###\n",
    "print(classification_report(y, predictions))\n",
    "### END CODE HERE ###\n"
   ]
  },
  {
   "cell_type": "markdown",
   "metadata": {},
   "source": [
    "__The result should look something like this :__\n",
    "```\n",
    "              precision    recall  f1-score   support\n",
    "\n",
    "        0.0       0.73      0.92      0.81        12\n",
    "        1.0       0.90      0.69      0.78        13\n",
    "\n",
    "avg / total       0.82      0.80      0.80        25\n",
    "```"
   ]
  },
  {
   "cell_type": "markdown",
   "metadata": {},
   "source": [
    "You may also use `cross_val_score` to get the actual accuracy from each fold in the k-fold cross validation."
   ]
  },
  {
   "cell_type": "code",
   "execution_count": 24,
   "metadata": {
    "scrolled": true
   },
   "outputs": [
    {
     "name": "stdout",
     "output_type": "stream",
     "text": [
      "Scores per fold :\n",
      "[0.66666667 0.75       0.75      ]\n",
      "Average accuracy : 0.7222222222222222\n"
     ]
    }
   ],
   "source": [
    "# See the scores per fold (experiment)\n",
    "k=3\n",
    "model = KNeighborsClassifier(n_neighbors=k)\n",
    "scores = cross_val_score(model, X, y, cv=3)\n",
    "print(\"Scores per fold :\\n\" + str(scores))\n",
    "print(\"Average accuracy : \" + str(np.sum(scores)/len(scores)))"
   ]
  },
  {
   "cell_type": "markdown",
   "metadata": {},
   "source": [
    "__The result should look something like this :__\n",
    "```\n",
    "Scores per fold :\n",
    "[ 1.    0.75  0.    1.    0.5   1.    1.    1.    1.    1.  ]\n",
    "Average accuracy : 0.825\n",
    "```"
   ]
  },
  {
   "cell_type": "markdown",
   "metadata": {},
   "source": [
    "## <center>fin</center>"
   ]
  }
 ],
 "metadata": {
  "anaconda-cloud": {},
  "kernelspec": {
   "display_name": "Python 3",
   "language": "python",
   "name": "python3"
  },
  "language_info": {
   "codemirror_mode": {
    "name": "ipython",
    "version": 3
   },
   "file_extension": ".py",
   "mimetype": "text/x-python",
   "name": "python",
   "nbconvert_exporter": "python",
   "pygments_lexer": "ipython3",
   "version": "3.6.9"
  }
 },
 "nbformat": 4,
 "nbformat_minor": 1
}
