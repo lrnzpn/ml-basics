{
  "nbformat": 4,
  "nbformat_minor": 0,
  "metadata": {
    "kernelspec": {
      "display_name": "Python 3",
      "language": "python",
      "name": "python3"
    },
    "language_info": {
      "codemirror_mode": {
        "name": "ipython",
        "version": 3
      },
      "file_extension": ".py",
      "mimetype": "text/x-python",
      "name": "python",
      "nbconvert_exporter": "python",
      "pygments_lexer": "ipython3",
      "version": "3.7.1"
    },
    "colab": {
      "name": "Tensorflow-Keras Convolutional Neural Networks - Questionnaire.ipynb",
      "provenance": [],
      "collapsed_sections": []
    },
    "accelerator": "GPU"
  },
  "cells": [
    {
      "cell_type": "markdown",
      "metadata": {
        "id": "rGCE1hsxtvy5",
        "colab_type": "text"
      },
      "source": [
        "## Convolutional Neural Networks using Tensorflow and Keras\n",
        "\n",
        "* In this exercise you will train a CNN on the FULL Cats-v-dogs dataset\n",
        "* This will require you doing a lot of data preprocessing because\n",
        "* The dataset isn't split into training and validation for you\n"
      ]
    },
    {
      "cell_type": "code",
      "metadata": {
        "id": "CfMcBsrwtvy7",
        "colab_type": "code",
        "colab": {
          "base_uri": "https://localhost:8080/",
          "height": 34
        },
        "outputId": "eb5a7955-ffae-4206-fe01-699f707e01ba"
      },
      "source": [
        "# This code block has all the required inputs\n",
        "import os\n",
        "import zipfile\n",
        "import random\n",
        "import tensorflow as tf\n",
        "%tensorflow_version 1.x\n",
        "from tensorflow.keras.optimizers import RMSprop\n",
        "from tensorflow.keras.preprocessing.image import ImageDataGenerator\n",
        "from tensorflow.keras.utils import plot_model\n",
        "from shutil import copyfile"
      ],
      "execution_count": 1,
      "outputs": [
        {
          "output_type": "stream",
          "text": [
            "TensorFlow is already loaded. Please restart the runtime to change versions.\n"
          ],
          "name": "stdout"
        }
      ]
    },
    {
      "cell_type": "markdown",
      "metadata": {
        "id": "oTNqeWf4tvy_",
        "colab_type": "text"
      },
      "source": [
        "This code block downloads the full Cats-v-Dogs dataset and stores it as \n",
        "cats-and-dogs.zip. It then unzips it to /tmp\n",
        "which will create a tmp/PetImages directory containing subdirectories\n",
        "called 'Cat' and 'Dog' (that's how the original researchers structured it)\n",
        "If the URL doesn't work, ,visit https://www.microsoft.com/en-us/download/confirmation.aspx?id=54765\n",
        "And right click on the 'Download Manually' link to get a new URL"
      ]
    },
    {
      "cell_type": "code",
      "metadata": {
        "id": "ibPe1YmEtvy_",
        "colab_type": "code",
        "colab": {
          "base_uri": "https://localhost:8080/",
          "height": 224
        },
        "outputId": "757e6674-b0a6-41c1-d936-653a935b9853"
      },
      "source": [
        "# This code block downloads the full Cats-v-Dogs dataset and stores it as \n",
        "# cats-and-dogs.zip. It then unzips it to /tmp\n",
        "# which will create a tmp/PetImages directory containing subdirectories\n",
        "# called 'Cat' and 'Dog' (that's how the original researchers structured it)\n",
        "# If the URL doesn't work, \n",
        "# .   visit https://www.microsoft.com/en-us/download/confirmation.aspx?id=54765\n",
        "# And right click on the 'Download Manually' link to get a new URL\n",
        "\n",
        "!wget --no-check-certificate \\\n",
        "    \"https://download.microsoft.com/download/3/E/1/3E1C3F21-ECDB-4869-8368-6DEBA77B919F/kagglecatsanddogs_3367a.zip\" \\\n",
        "    -O \"cats-and-dogs.zip\"\n",
        "\n",
        "local_zip = 'cats-and-dogs.zip'\n",
        "zip_ref = zipfile.ZipFile(local_zip, 'r')\n",
        "zip_ref.extractall('')\n",
        "zip_ref.close()\n"
      ],
      "execution_count": 2,
      "outputs": [
        {
          "output_type": "stream",
          "text": [
            "--2020-07-21 16:36:58--  https://download.microsoft.com/download/3/E/1/3E1C3F21-ECDB-4869-8368-6DEBA77B919F/kagglecatsanddogs_3367a.zip\n",
            "Resolving download.microsoft.com (download.microsoft.com)... 23.44.0.79, 2600:1417:3f:898::e59, 2600:1417:3f:8a0::e59\n",
            "Connecting to download.microsoft.com (download.microsoft.com)|23.44.0.79|:443... connected.\n",
            "HTTP request sent, awaiting response... 200 OK\n",
            "Length: 824894548 (787M) [application/octet-stream]\n",
            "Saving to: ‘cats-and-dogs.zip’\n",
            "\n",
            "cats-and-dogs.zip   100%[===================>] 786.68M   136MB/s    in 6.5s    \n",
            "\n",
            "2020-07-21 16:37:04 (122 MB/s) - ‘cats-and-dogs.zip’ saved [824894548/824894548]\n",
            "\n"
          ],
          "name": "stdout"
        }
      ]
    },
    {
      "cell_type": "code",
      "metadata": {
        "id": "PvgzHvE5tvzE",
        "colab_type": "code",
        "colab": {
          "base_uri": "https://localhost:8080/",
          "height": 51
        },
        "outputId": "bf5b8cfb-1186-4bbb-d6d7-dd1ed0358353"
      },
      "source": [
        "print(len(os.listdir('PetImages/Cat/')))\n",
        "print(len(os.listdir('PetImages/Dog/')))\n",
        "\n",
        "# Expected Output:\n",
        "# 12501\n",
        "# 12501"
      ],
      "execution_count": 3,
      "outputs": [
        {
          "output_type": "stream",
          "text": [
            "12501\n",
            "12501\n"
          ],
          "name": "stdout"
        }
      ]
    },
    {
      "cell_type": "code",
      "metadata": {
        "id": "fysXVdsItvzH",
        "colab_type": "code",
        "colab": {}
      },
      "source": [
        "# Use os.mkdir to create your directories\n",
        "# You will need a directory for cats-v-dogs, and subdirectories for training\n",
        "# and testing. These in turn will need subdirectories for 'cats' and 'dogs'\n",
        "try:\n",
        "    os.mkdir('cats-v-dogs')\n",
        "    os.mkdir('cats-v-dogs/training')\n",
        "    os.mkdir('cats-v-dogs/testing')\n",
        "    os.mkdir('cats-v-dogs/training/cats')\n",
        "    os.mkdir('cats-v-dogs/training/dogs')\n",
        "    os.mkdir('cats-v-dogs/testing/cats')\n",
        "    os.mkdir('cats-v-dogs/testing/dogs')\n",
        "except OSError:\n",
        "    pass"
      ],
      "execution_count": 4,
      "outputs": []
    },
    {
      "cell_type": "markdown",
      "metadata": {
        "id": "_yMmEeZPtvzK",
        "colab_type": "text"
      },
      "source": [
        "#### CODING EXERCISE\n",
        "\n",
        "Write a python function called split_data which takes\n",
        "a SOURCE directory containing the files\n",
        "a TRAINING directory that a portion of the files will be copied to\n",
        "a TESTING directory that a portion of the files will be copie to\n",
        "a SPLIT SIZE to determine the portion\n",
        "The files should also be randomized, so that the training set is a random\n",
        "X% of the files, and the test set is the remaining files\n",
        "SO, for example, if SOURCE is PetImages/Cat, and SPLIT SIZE is .9\n",
        "Then 90% of the images in PetImages/Cat will be copied to the TRAINING dir\n",
        "and 10% of the images will be copied to the TESTING dir\n",
        "Also -- All images should be checked, and if they have a zero file length,\n",
        "they will not be copied over\n",
        "\n",
        "Hints: \n",
        "\n",
        "* os.listdir(DIRECTORY) gives you a listing of the contents of that directory\n",
        "* os.path.getsize(PATH) gives you the size of the file\n",
        "* copyfile(source, destination) copies a file from source to destination\n",
        "* random.sample(list, len(list)) shuffles a list"
      ]
    },
    {
      "cell_type": "code",
      "metadata": {
        "id": "kUzGHhUUtvzM",
        "colab_type": "code",
        "colab": {
          "base_uri": "https://localhost:8080/",
          "height": 68
        },
        "outputId": "8627e35d-7001-4f9e-c480-bfdc5dfa74f1"
      },
      "source": [
        "def split_data(SOURCE, TRAINING, TESTING, SPLIT_SIZE):\n",
        "    root = os.listdir(SOURCE)\n",
        "    shuffle = random.sample(root, len(root))\n",
        "    train = shuffle[:round(len(root) * SPLIT_SIZE)]\n",
        "    test = shuffle[round(len(root) * SPLIT_SIZE):]  \n",
        "\n",
        "    # for training\n",
        "    for i in range(0, len(train)):\n",
        "        if not os.path.getsize(SOURCE + root[i]):\n",
        "          print(root[i], \"is zero length, so ignoring\")  \n",
        "        else:\n",
        "          copyfile(SOURCE + root[i], TRAINING + root[i] )\n",
        "          \n",
        "    # for testing\n",
        "    for j in range(0, len(test)):\n",
        "        if not os.path.getsize(SOURCE + root[j]):  \n",
        "          print(root[j], \"is zero length, so ignoring\")\n",
        "        else:\n",
        "          copyfile(SOURCE + root[j], TESTING + root[j])\n",
        "          \n",
        "            \n",
        "CAT_SOURCE_DIR = \"PetImages/Cat/\"\n",
        "TRAINING_CATS_DIR = \"cats-v-dogs/training/cats/\"\n",
        "TESTING_CATS_DIR = \"cats-v-dogs/testing/cats/\"\n",
        "DOG_SOURCE_DIR = \"PetImages/Dog/\"\n",
        "TRAINING_DOGS_DIR = \"cats-v-dogs/training/dogs/\"\n",
        "TESTING_DOGS_DIR = \"cats-v-dogs/testing/dogs/\"\n",
        "\n",
        "split_size = .9\n",
        "split_data(CAT_SOURCE_DIR, TRAINING_CATS_DIR, TESTING_CATS_DIR, split_size)\n",
        "split_data(DOG_SOURCE_DIR, TRAINING_DOGS_DIR, TESTING_DOGS_DIR, split_size)\n",
        "\n",
        "# Expected output\n",
        "# 666.jpg is zero length, so ignoring\n",
        "# 11702.jpg is zero length, so ignoring"
      ],
      "execution_count": 5,
      "outputs": [
        {
          "output_type": "stream",
          "text": [
            "666.jpg is zero length, so ignoring\n",
            "666.jpg is zero length, so ignoring\n",
            "11702.jpg is zero length, so ignoring\n"
          ],
          "name": "stdout"
        }
      ]
    },
    {
      "cell_type": "code",
      "metadata": {
        "id": "3koGixGmtvzP",
        "colab_type": "code",
        "colab": {
          "base_uri": "https://localhost:8080/",
          "height": 85
        },
        "outputId": "a4a2cdac-c951-43b0-b638-800e5d81f74e"
      },
      "source": [
        "print(len(os.listdir('cats-v-dogs/training/cats/')))\n",
        "print(len(os.listdir('cats-v-dogs/training/dogs/')))\n",
        "print(len(os.listdir('cats-v-dogs/testing/cats/')))\n",
        "print(len(os.listdir('cats-v-dogs/testing/dogs/')))\n",
        "\n",
        "# Expected output:\n",
        "# 11250\n",
        "# 11250\n",
        "# 1250\n",
        "# 1250"
      ],
      "execution_count": 6,
      "outputs": [
        {
          "output_type": "stream",
          "text": [
            "11250\n",
            "11250\n",
            "1249\n",
            "1250\n"
          ],
          "name": "stdout"
        }
      ]
    },
    {
      "cell_type": "markdown",
      "metadata": {
        "id": "3GJZbSzEtvzR",
        "colab_type": "text"
      },
      "source": [
        "## CODING EXERCISE: Training and Initializing your Classifier\n",
        "\n",
        "* You must create a classifier that achieves at least 90% on the validation set."
      ]
    },
    {
      "cell_type": "markdown",
      "metadata": {
        "id": "mnROD2-rtvzT",
        "colab_type": "text"
      },
      "source": [
        "DEFINE A KERAS MODEL TO CLASSIFY CATS V DOGS HINT: USE AT LEAST 2-3 CONVOLUTION LAYERS"
      ]
    },
    {
      "cell_type": "code",
      "metadata": {
        "id": "Vik7dZ22tvzT",
        "colab_type": "code",
        "colab": {
          "base_uri": "https://localhost:8080/",
          "height": 953
        },
        "outputId": "8ee61941-073d-44c8-c8c8-d9674c1f60f0"
      },
      "source": [
        "# DEFINE A KERAS MODEL TO CLASSIFY CATS V DOGS\n",
        "# USE AT LEAST 3 CONVOLUTION LAYERS\n",
        "### YOUR CODE HERE\n",
        "model = tf.keras.models.Sequential([\n",
        "  tf.keras.layers.Conv2D(64, (3,3), activation='relu', input_shape=(150, 150, 3)),\n",
        "  tf.keras.layers.MaxPooling2D(2, 2),\n",
        "  tf.keras.layers.Conv2D(64, (3,3), activation='relu'),\n",
        "  tf.keras.layers.MaxPooling2D(2,2),\n",
        "  tf.keras.layers.Conv2D(64, (3,3), activation='relu'),\n",
        "  tf.keras.layers.MaxPooling2D(2,2),\n",
        "  tf.keras.layers.Flatten(),\n",
        "  tf.keras.layers.Dense(128, activation='relu'),\n",
        "  tf.keras.layers.Dense(10, activation='softmax')\n",
        "])\n",
        "\n",
        "model.compile(optimizer='adam', loss='sparse_categorical_crossentropy', metrics=['accuracy'])\n",
        "\n",
        "plot_model(model)"
      ],
      "execution_count": 10,
      "outputs": [
        {
          "output_type": "execute_result",
          "data": {
            "image/png": "[encoded data removed]",
            "text/plain": [
              "<IPython.core.display.Image object>"
            ]
          },
          "metadata": {
            "tags": []
          },
          "execution_count": 10
        }
      ]
    },
    {
      "cell_type": "markdown",
      "metadata": {
        "id": "IT93Uvr2tvzW",
        "colab_type": "text"
      },
      "source": [
        "#### CODING EXERCISE: Use ImageDataGenerator for Data Augmentation on the Training and Validation Set\n",
        "\n",
        "See https://www.tensorflow.org/tutorials/images/data_augmentation\n",
        "\n",
        "Use parameters:\n",
        "```\n",
        "* rescale = 1./255\n",
        "* rotation_range = 40\n",
        "* width_shift_range = 0.2\n",
        "* height shift_range = 0.2\n",
        "* shear_range = 0.2\n",
        "* horizontal_flip = True\n",
        "* fill_mode = 'nearest'\n",
        "* class_mode = 'binary'\n",
        "* target_size = (150,150)\n",
        "\n",
        "```"
      ]
    },
    {
      "cell_type": "code",
      "metadata": {
        "id": "usSJBisgtvzX",
        "colab_type": "code",
        "colab": {
          "base_uri": "https://localhost:8080/",
          "height": 51
        },
        "outputId": "9d176dd6-fff9-4e2d-aa87-aedca8ee31b6"
      },
      "source": [
        "TRAINING_DIR = \"cats-v-dogs/training/\"\n",
        "train_datagen = ImageDataGenerator(rescale=1./255, \n",
        "                                   shear_range=0.2, \n",
        "                                   horizontal_flip=True,\n",
        "                                   width_shift_range=0.2,\n",
        "                                   height_shift_range=0.2,\n",
        "                                   rotation_range=40,\n",
        "                                   fill_mode='nearest')\n",
        "\n",
        "train_generator = train_datagen.flow_from_directory(TRAINING_DIR,\n",
        "                                                    class_mode='binary',\n",
        "                                                    target_size=(150,150))\n",
        "\n",
        "VALIDATION_DIR = \"cats-v-dogs/testing/\"\n",
        "validation_datagen = ImageDataGenerator(rescale=1./255, \n",
        "                                   shear_range=0.2, \n",
        "                                   horizontal_flip=True,\n",
        "                                   width_shift_range=0.2,\n",
        "                                   height_shift_range=0.2,\n",
        "                                   rotation_range=40,\n",
        "                                   fill_mode='nearest')\n",
        "\n",
        "validation_generator = validation_datagen.flow_from_directory(VALIDATION_DIR,                                                             \n",
        "                                                    class_mode='binary',\n",
        "                                                    target_size=(150,150))\n",
        "\n",
        "# Expected Output:\n",
        "# Found 22498 images belonging to 2 classes.\n",
        "# Found 2500 images belonging to 2 classes."
      ],
      "execution_count": 11,
      "outputs": [
        {
          "output_type": "stream",
          "text": [
            "Found 22498 images belonging to 2 classes.\n",
            "Found 2499 images belonging to 2 classes.\n"
          ],
          "name": "stdout"
        }
      ]
    },
    {
      "cell_type": "markdown",
      "metadata": {
        "id": "-1cwyis-tvza",
        "colab_type": "text"
      },
      "source": [
        "### CODING EXERCISE: Train the Model using fit_generator"
      ]
    },
    {
      "cell_type": "code",
      "metadata": {
        "id": "yOcQ4ojktvzb",
        "colab_type": "code",
        "colab": {
          "base_uri": "https://localhost:8080/",
          "height": 989
        },
        "outputId": "d792de36-c087-490f-e238-9aeb59d4c5e1"
      },
      "source": [
        "# first trained on 15 epochs, got 86% accuracy\n",
        "# second training on 20 epochs\n",
        "history = model.fit_generator(train_generator, \n",
        "                              epochs=20, \n",
        "                              verbose=1, \n",
        "                              validation_data=validation_generator)"
      ],
      "execution_count": 14,
      "outputs": [
        {
          "output_type": "stream",
          "text": [
            "Epoch 1/20\n",
            "593/704 [========================>.....] - ETA: 26s - loss: 0.3084 - accuracy: 0.8653"
          ],
          "name": "stdout"
        },
        {
          "output_type": "stream",
          "text": [
            "/usr/local/lib/python3.6/dist-packages/PIL/TiffImagePlugin.py:770: UserWarning: Possibly corrupt EXIF data.  Expecting to read 32 bytes but only got 0. Skipping tag 270\n",
            "  \" Skipping tag %s\" % (size, len(data), tag)\n",
            "/usr/local/lib/python3.6/dist-packages/PIL/TiffImagePlugin.py:770: UserWarning: Possibly corrupt EXIF data.  Expecting to read 5 bytes but only got 0. Skipping tag 271\n",
            "  \" Skipping tag %s\" % (size, len(data), tag)\n",
            "/usr/local/lib/python3.6/dist-packages/PIL/TiffImagePlugin.py:770: UserWarning: Possibly corrupt EXIF data.  Expecting to read 8 bytes but only got 0. Skipping tag 272\n",
            "  \" Skipping tag %s\" % (size, len(data), tag)\n",
            "/usr/local/lib/python3.6/dist-packages/PIL/TiffImagePlugin.py:770: UserWarning: Possibly corrupt EXIF data.  Expecting to read 8 bytes but only got 0. Skipping tag 282\n",
            "  \" Skipping tag %s\" % (size, len(data), tag)\n",
            "/usr/local/lib/python3.6/dist-packages/PIL/TiffImagePlugin.py:770: UserWarning: Possibly corrupt EXIF data.  Expecting to read 8 bytes but only got 0. Skipping tag 283\n",
            "  \" Skipping tag %s\" % (size, len(data), tag)\n",
            "/usr/local/lib/python3.6/dist-packages/PIL/TiffImagePlugin.py:770: UserWarning: Possibly corrupt EXIF data.  Expecting to read 20 bytes but only got 0. Skipping tag 306\n",
            "  \" Skipping tag %s\" % (size, len(data), tag)\n",
            "/usr/local/lib/python3.6/dist-packages/PIL/TiffImagePlugin.py:770: UserWarning: Possibly corrupt EXIF data.  Expecting to read 48 bytes but only got 0. Skipping tag 532\n",
            "  \" Skipping tag %s\" % (size, len(data), tag)\n",
            "/usr/local/lib/python3.6/dist-packages/PIL/TiffImagePlugin.py:788: UserWarning: Corrupt EXIF data.  Expecting to read 2 bytes but only got 0. \n",
            "  warnings.warn(str(msg))\n"
          ],
          "name": "stderr"
        },
        {
          "output_type": "stream",
          "text": [
            "704/704 [==============================] - 189s 268ms/step - loss: 0.3080 - accuracy: 0.8657 - val_loss: 0.2756 - val_accuracy: 0.8824\n",
            "Epoch 2/20\n",
            "704/704 [==============================] - 191s 272ms/step - loss: 0.2932 - accuracy: 0.8751 - val_loss: 0.2794 - val_accuracy: 0.8824\n",
            "Epoch 3/20\n",
            "704/704 [==============================] - 190s 270ms/step - loss: 0.2922 - accuracy: 0.8743 - val_loss: 0.3230 - val_accuracy: 0.8595\n",
            "Epoch 4/20\n",
            "704/704 [==============================] - 190s 270ms/step - loss: 0.2874 - accuracy: 0.8770 - val_loss: 0.2531 - val_accuracy: 0.8932\n",
            "Epoch 5/20\n",
            "704/704 [==============================] - 192s 272ms/step - loss: 0.2755 - accuracy: 0.8837 - val_loss: 0.2917 - val_accuracy: 0.8752\n",
            "Epoch 6/20\n",
            "704/704 [==============================] - 193s 274ms/step - loss: 0.2738 - accuracy: 0.8840 - val_loss: 0.2591 - val_accuracy: 0.8848\n",
            "Epoch 7/20\n",
            "704/704 [==============================] - 192s 273ms/step - loss: 0.2652 - accuracy: 0.8856 - val_loss: 0.2303 - val_accuracy: 0.9036\n",
            "Epoch 8/20\n",
            "704/704 [==============================] - 192s 272ms/step - loss: 0.2669 - accuracy: 0.8861 - val_loss: 0.2197 - val_accuracy: 0.9088\n",
            "Epoch 9/20\n",
            "704/704 [==============================] - 192s 272ms/step - loss: 0.2556 - accuracy: 0.8920 - val_loss: 0.2260 - val_accuracy: 0.9044\n",
            "Epoch 10/20\n",
            "704/704 [==============================] - 191s 272ms/step - loss: 0.2576 - accuracy: 0.8902 - val_loss: 0.2286 - val_accuracy: 0.9056\n",
            "Epoch 11/20\n",
            "704/704 [==============================] - 193s 275ms/step - loss: 0.2510 - accuracy: 0.8922 - val_loss: 0.2372 - val_accuracy: 0.8968\n",
            "Epoch 12/20\n",
            "704/704 [==============================] - 195s 277ms/step - loss: 0.2493 - accuracy: 0.8949 - val_loss: 0.2132 - val_accuracy: 0.9104\n",
            "Epoch 13/20\n",
            "704/704 [==============================] - 195s 277ms/step - loss: 0.2401 - accuracy: 0.8983 - val_loss: 0.3095 - val_accuracy: 0.8703\n",
            "Epoch 14/20\n",
            "704/704 [==============================] - 193s 274ms/step - loss: 0.2408 - accuracy: 0.8977 - val_loss: 0.2176 - val_accuracy: 0.9140\n",
            "Epoch 15/20\n",
            "704/704 [==============================] - 193s 274ms/step - loss: 0.2433 - accuracy: 0.8966 - val_loss: 0.2399 - val_accuracy: 0.8936\n",
            "Epoch 16/20\n",
            "704/704 [==============================] - 192s 273ms/step - loss: 0.2386 - accuracy: 0.8969 - val_loss: 0.2118 - val_accuracy: 0.9096\n",
            "Epoch 17/20\n",
            "704/704 [==============================] - 194s 275ms/step - loss: 0.2354 - accuracy: 0.8997 - val_loss: 0.1994 - val_accuracy: 0.9184\n",
            "Epoch 18/20\n",
            "704/704 [==============================] - 194s 275ms/step - loss: 0.2261 - accuracy: 0.9048 - val_loss: 0.2353 - val_accuracy: 0.9028\n",
            "Epoch 19/20\n",
            "704/704 [==============================] - 195s 277ms/step - loss: 0.2247 - accuracy: 0.9047 - val_loss: 0.2398 - val_accuracy: 0.8976\n",
            "Epoch 20/20\n",
            "704/704 [==============================] - 196s 278ms/step - loss: 0.2233 - accuracy: 0.9053 - val_loss: 0.2142 - val_accuracy: 0.9132\n"
          ],
          "name": "stdout"
        }
      ]
    },
    {
      "cell_type": "code",
      "metadata": {
        "id": "wO5dvdDYtvze",
        "colab_type": "code",
        "colab": {
          "base_uri": "https://localhost:8080/",
          "height": 562
        },
        "outputId": "44379446-317a-4060-fa18-5822223c635c"
      },
      "source": [
        "# PLOT LOSS AND ACCURACY\n",
        "%matplotlib inline\n",
        "\n",
        "import matplotlib.image  as mpimg\n",
        "import matplotlib.pyplot as plt\n",
        "\n",
        "#-----------------------------------------------------------\n",
        "# Retrieve a list of list results on training and test data\n",
        "# sets for each training epoch\n",
        "#-----------------------------------------------------------\n",
        "acc=history.history['accuracy']\n",
        "val_acc=history.history['val_accuracy']\n",
        "loss=history.history['loss']\n",
        "val_loss=history.history['val_loss']\n",
        "\n",
        "epochs=range(len(acc)) # Get number of epochs\n",
        "\n",
        "#------------------------------------------------\n",
        "# Plot training and validation accuracy per epoch\n",
        "#------------------------------------------------\n",
        "plt.plot(epochs, acc, 'r', \"Training Accuracy\")\n",
        "plt.plot(epochs, val_acc, 'b', \"Validation Accuracy\")\n",
        "plt.title('Training and validation accuracy')\n",
        "plt.figure()\n",
        "\n",
        "#------------------------------------------------\n",
        "# Plot training and validation loss per epoch\n",
        "#------------------------------------------------\n",
        "plt.plot(epochs, loss, 'r', \"Training Loss\")\n",
        "plt.plot(epochs, val_loss, 'b', \"Validation Loss\")\n",
        "\n",
        "\n",
        "plt.title('Training and validation loss')\n",
        "\n",
        "# Desired output. Charts with training and validation metrics. No crash :)"
      ],
      "execution_count": 15,
      "outputs": [
        {
          "output_type": "execute_result",
          "data": {
            "text/plain": [
              "Text(0.5, 1.0, 'Training and validation loss')"
            ]
          },
          "metadata": {
            "tags": []
          },
          "execution_count": 15
        },
        {
          "output_type": "display_data",
          "data": {
            "image/png": "[encoded data removed]",
            "text/plain": [
              "<Figure size 432x288 with 1 Axes>"
            ]
          },
          "metadata": {
            "tags": [],
            "needs_background": "light"
          }
        },
        {
          "output_type": "display_data",
          "data": {
            "image/png": "[encoded data removed]",
            "text/plain": [
              "<Figure size 432x288 with 1 Axes>"
            ]
          },
          "metadata": {
            "tags": [],
            "needs_background": "light"
          }
        }
      ]
    },
    {
      "cell_type": "code",
      "metadata": {
        "id": "UM_VkDzq5SbA",
        "colab_type": "code",
        "colab": {}
      },
      "source": [
        ""
      ],
      "execution_count": null,
      "outputs": []
    }
  ]
}